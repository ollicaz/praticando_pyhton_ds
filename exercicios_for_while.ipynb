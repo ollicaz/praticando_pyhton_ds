{
  "nbformat": 4,
  "nbformat_minor": 0,
  "metadata": {
    "colab": {
      "provenance": []
    },
    "kernelspec": {
      "name": "python3",
      "display_name": "Python 3"
    },
    "language_info": {
      "name": "python"
    }
  },
  "cells": [
    {
      "cell_type": "code",
      "execution_count": 2,
      "metadata": {
        "colab": {
          "base_uri": "https://localhost:8080/"
        },
        "id": "LbwgrCH10dUI",
        "outputId": "2edb9223-00d0-4e35-dc16-ba720e9564a8"
      },
      "outputs": [
        {
          "output_type": "stream",
          "name": "stdout",
          "text": [
            "João\n",
            "Maria\n",
            "Carlos\n",
            "Ana\n",
            "Beatriz\n"
          ]
        }
      ],
      "source": [
        "# Compreendendo laços\n",
        "\n",
        "clientes = [\"João\", \"Maria\", \"Carlos\", \"Ana\", \"Beatriz\"]\n",
        "\n",
        "for nome in clientes:\n",
        "  print(nome)\n",
        "\n",
        "# A escolha do laço for, pois, queremos cada elemento do iterável."
      ]
    },
    {
      "cell_type": "code",
      "source": [
        "# Loop infinito\n",
        "\n",
        "contador = 0\n",
        "\n",
        "while contador < 10:\n",
        "    print(\"Processando dados...\")\n",
        "    contador += 1\n",
        "\n",
        "# O problema nesta linha de código, é que não havia a iteração do contador, por isso o loop é infinito."
      ],
      "metadata": {
        "colab": {
          "base_uri": "https://localhost:8080/"
        },
        "id": "SL7qQuIu2fpx",
        "outputId": "ee04f7c0-9a62-4d63-aa22-0fb8b99bb182"
      },
      "execution_count": 3,
      "outputs": [
        {
          "output_type": "stream",
          "name": "stdout",
          "text": [
            "Processando dados...\n",
            "Processando dados...\n",
            "Processando dados...\n",
            "Processando dados...\n",
            "Processando dados...\n",
            "Processando dados...\n",
            "Processando dados...\n",
            "Processando dados...\n",
            "Processando dados...\n",
            "Processando dados...\n"
          ]
        }
      ]
    },
    {
      "cell_type": "code",
      "source": [
        "# Exibir a mensagem 5 vezes\n",
        "\n",
        "'''mensagem = 'Bem-vindo ao buscante!'\n",
        "contador = 0\n",
        "\n",
        "while contador < 5:\n",
        "  print(mensagem)\n",
        "  contador += 1'''\n",
        "\n",
        "for mensagem in range(5):\n",
        "  print('Bem-vindo ao buscante!')"
      ],
      "metadata": {
        "colab": {
          "base_uri": "https://localhost:8080/"
        },
        "id": "Oj5WEOQt3Vfa",
        "outputId": "bb0536d7-6f76-4592-f47d-a49f0ef33c78"
      },
      "execution_count": 5,
      "outputs": [
        {
          "output_type": "stream",
          "name": "stdout",
          "text": [
            "Bem-vindo ao buscante!\n",
            "Bem-vindo ao buscante!\n",
            "Bem-vindo ao buscante!\n",
            "Bem-vindo ao buscante!\n",
            "Bem-vindo ao buscante!\n"
          ]
        }
      ]
    },
    {
      "cell_type": "code",
      "source": [
        "# Calculando soma de números\n",
        "\n",
        "valores = [10, 20, 30, 40, 50]\n",
        "soma = 0\n",
        "\n",
        "for valor in valores:\n",
        "  soma += valor\n",
        "\n",
        "print(f'A soma total das receitas é: {soma}')"
      ],
      "metadata": {
        "colab": {
          "base_uri": "https://localhost:8080/"
        },
        "id": "nX1R8tep4TLO",
        "outputId": "f90546d4-59b5-4039-f4c6-b0e8280fab91"
      },
      "execution_count": 11,
      "outputs": [
        {
          "output_type": "stream",
          "name": "stdout",
          "text": [
            "A soma total das receitas é: 150\n"
          ]
        }
      ]
    },
    {
      "cell_type": "code",
      "source": [
        "# Projeto ausente\n",
        "\n",
        "projetos = [\"website\", \"jogo\", \"análise de dados\", None, \"aplicativo móvel\"]\n",
        "\n",
        "\n",
        "for projeto in projetos:\n",
        "  if projeto == None:\n",
        "    print('Projeto ausente')\n",
        "    continue\n",
        "  print(projeto)"
      ],
      "metadata": {
        "colab": {
          "base_uri": "https://localhost:8080/"
        },
        "id": "2c6gqJKc494M",
        "outputId": "b7096dcd-298f-41c0-f6dc-0f744c45ddca"
      },
      "execution_count": 5,
      "outputs": [
        {
          "output_type": "stream",
          "name": "stdout",
          "text": [
            "website\n",
            "jogo\n",
            "análise de dados\n",
            "Projeto ausente\n",
            "aplicativo móvel\n"
          ]
        }
      ]
    },
    {
      "cell_type": "code",
      "source": [
        "# Procurando 'O Hobbit'\n",
        "\n",
        "livros = [\"1984\", \"Dom Casmurro\", \"O Pequeno Príncipe\", \"O Hobbit\", \"Orgulho e Preconceito\"]\n",
        "\n",
        "for livro in livros:\n",
        "  if livro == 'O Hobbit':\n",
        "    print('Livro encontrado')\n",
        "    break\n",
        "print(livro)"
      ],
      "metadata": {
        "colab": {
          "base_uri": "https://localhost:8080/"
        },
        "id": "rM-_Oj126P6M",
        "outputId": "67870446-872d-46fd-e0b6-06254458d3fe"
      },
      "execution_count": 8,
      "outputs": [
        {
          "output_type": "stream",
          "name": "stdout",
          "text": [
            "Livro encontrado\n",
            "O Hobbit\n"
          ]
        }
      ]
    },
    {
      "cell_type": "code",
      "source": [
        "# Controle de estoque\n",
        "estoque = 5\n",
        "\n",
        "while estoque > 0:\n",
        "  estoque -= 1\n",
        "  print(f'Venda realizada. Estoque restante: {estoque}')\n",
        "\n",
        "print('Estoque esgotado')"
      ],
      "metadata": {
        "colab": {
          "base_uri": "https://localhost:8080/"
        },
        "id": "xJsbXtAjBl5_",
        "outputId": "3d9a6963-baac-4027-b49c-88d50dbb0558"
      },
      "execution_count": 10,
      "outputs": [
        {
          "output_type": "stream",
          "name": "stdout",
          "text": [
            "Venda realizada. Estoque restante: 4\n",
            "Venda realizada. Estoque restante: 3\n",
            "Venda realizada. Estoque restante: 2\n",
            "Venda realizada. Estoque restante: 1\n",
            "Venda realizada. Estoque restante: 0\n",
            "Estoque esgotado\n"
          ]
        }
      ]
    },
    {
      "cell_type": "code",
      "source": [
        "# Contagem regressiva\n",
        "contagem = 10\n",
        "\n",
        "for numero in range(contagem, 0, -1):\n",
        "  if numero > 0:\n",
        "    if numero % 2 == 0:\n",
        "      print(f'Falta apenas {numero} segundos. Não perca essa oportunidade')\n",
        "    else:\n",
        "      print(f'A contagem continua: {numero} segundos restantes')\n",
        "\n",
        "print('Aproveite a promoção agora!')"
      ],
      "metadata": {
        "colab": {
          "base_uri": "https://localhost:8080/"
        },
        "id": "uOpJ9JkPC1FV",
        "outputId": "5854f324-7fb7-4eee-ff32-be4f42687138"
      },
      "execution_count": 14,
      "outputs": [
        {
          "output_type": "stream",
          "name": "stdout",
          "text": [
            "Falta apenas 10 segundos. Não perca essa oportunidade\n",
            "A contagem continua: 9 segundos restantes\n",
            "Falta apenas 8 segundos. Não perca essa oportunidade\n",
            "A contagem continua: 7 segundos restantes\n",
            "Falta apenas 6 segundos. Não perca essa oportunidade\n",
            "A contagem continua: 5 segundos restantes\n",
            "Falta apenas 4 segundos. Não perca essa oportunidade\n",
            "A contagem continua: 3 segundos restantes\n",
            "Falta apenas 2 segundos. Não perca essa oportunidade\n",
            "A contagem continua: 1 segundos restantes\n",
            "Aproveite a promoção agora!\n"
          ]
        }
      ]
    },
    {
      "cell_type": "code",
      "source": [
        "# Ignorando livro indisponível\n",
        "\n",
        "livros = [\n",
        "    {\"nome\": \"1984\", \"estoque\": 5},\n",
        "    {\"nome\": \"Dom Casmurro\", \"estoque\": 0},\n",
        "    {\"nome\": \"O Pequeno Príncipe\", \"estoque\": 3},\n",
        "    {\"nome\": \"O Hobbit\", \"estoque\": 0},\n",
        "    {\"nome\": \"Orgulho e Preconceito\", \"estoque\": 2}\n",
        "]\n",
        "\n",
        "for livro in livros:\n",
        "  if livro[\"estoque\"] == 0:\n",
        "      continue\n",
        "  print(f'livro disponível: {livro[\"nome\"]}')"
      ],
      "metadata": {
        "colab": {
          "base_uri": "https://localhost:8080/"
        },
        "id": "CUZc_TxFFCZB",
        "outputId": "5f21ebc0-9a02-45a4-dc89-a63752153fe1"
      },
      "execution_count": 21,
      "outputs": [
        {
          "output_type": "stream",
          "name": "stdout",
          "text": [
            "livro disponível: 1984\n",
            "livro disponível: O Pequeno Príncipe\n",
            "livro disponível: Orgulho e Preconceito\n"
          ]
        }
      ]
    },
    {
      "cell_type": "code",
      "source": [
        "# Validação de login\n",
        "\n",
        "while True:\n",
        "  nome_usuario = input('Digite seu nome de usuário: ')\n",
        "  senha_usuario = input('Digite a sua nova senha: ')\n",
        "\n",
        "  if len(nome_usuario) < 5:\n",
        "    print(f'O nome de usuário deve ter pelo menos 5 caracteres.')\n",
        "    continue\n",
        "\n",
        "  if len(senha_usuario) < 8:\n",
        "    print(f'A senha deve ter pelo menos 8 caracteres.')\n",
        "    continue\n",
        "\n",
        "  print('Cadastro realizado com sucesso!')\n",
        "  break\n"
      ],
      "metadata": {
        "colab": {
          "base_uri": "https://localhost:8080/"
        },
        "id": "WY2qnwRQGV8_",
        "outputId": "c9023c00-41d5-4b12-cf58-6297b1dc58d3"
      },
      "execution_count": 26,
      "outputs": [
        {
          "output_type": "stream",
          "name": "stdout",
          "text": [
            "Digite seu nome de usuário: ollicaz\n",
            "Digite a sua nova senha: adcv\n",
            "A senha deve ter pelo menos 8 caracteres.\n",
            "Digite seu nome de usuário: olli\n",
            "Digite a sua nova senha: 12345678\n",
            "O nome de usuário deve ter pelo menos 5 caracteres.\n",
            "Digite seu nome de usuário: ollicaz\n",
            "Digite a sua nova senha: 12345678\n",
            "Cadastro realizado com sucesso!\n"
          ]
        }
      ]
    },
    {
      "cell_type": "code",
      "source": [],
      "metadata": {
        "id": "82HLPjmGJJ4z"
      },
      "execution_count": null,
      "outputs": []
    }
  ]
}