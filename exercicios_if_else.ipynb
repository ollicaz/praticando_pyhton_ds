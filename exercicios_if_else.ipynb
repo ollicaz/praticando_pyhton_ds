{
  "nbformat": 4,
  "nbformat_minor": 0,
  "metadata": {
    "colab": {
      "provenance": []
    },
    "kernelspec": {
      "name": "python3",
      "display_name": "Python 3"
    },
    "language_info": {
      "name": "python"
    }
  },
  "cells": [
    {
      "cell_type": "code",
      "execution_count": null,
      "metadata": {
        "colab": {
          "base_uri": "https://localhost:8080/"
        },
        "id": "vJeITluaPThR",
        "outputId": "4a18ace1-4ee0-48bc-ed9e-1310212f921d"
      },
      "outputs": [
        {
          "output_type": "stream",
          "name": "stdout",
          "text": [
            "Digite a quantide de maçãs: 10\n",
            "Digite a quantide de bananas: 12\n",
            "As bananas tiveram mais vendas, foram 12 bananas\n"
          ]
        }
      ],
      "source": [
        "# Qual fruta vendeu mais?\n",
        "maca = int(input('Digite a quantide de maçãs: '))\n",
        "banana = int(input('Digite a quantide de bananas: '))\n",
        "\n",
        "if maca > banana:\n",
        "  print(f'As maçãs tiveram mais vendas, foram {maca} maçãs.')\n",
        "elif banana > maca:\n",
        "  print(f'As bananas tiveram mais vendas, foram {banana} bananas')\n",
        "else:\n",
        "  print('Foram iguais')"
      ]
    },
    {
      "cell_type": "code",
      "source": [
        "# Calculando dias de atividades\n",
        "\n",
        "dia1 = int(input('Informe os dias para atividades: '))\n",
        "dia2 = int(input('Informe os dias para atividades: '))\n",
        "dia3 = int(input('Informe os dias para atividades: '))\n",
        "\n",
        "\n",
        "if (dia1 > 0 and dia2 > 0 and dia3 > 0):\n",
        "  total_projeto = dia1 + dia2 + dia3\n",
        "  print(f'O tempo total do projeto é de {total_projeto} dias')\n",
        "else:\n",
        "  print('Erro: os dias não podem ser negativos')"
      ],
      "metadata": {
        "colab": {
          "base_uri": "https://localhost:8080/"
        },
        "id": "13wlI1UpQM67",
        "outputId": "9b317b4a-43aa-49a7-b87d-123fe9ec83ad"
      },
      "execution_count": null,
      "outputs": [
        {
          "output_type": "stream",
          "name": "stdout",
          "text": [
            "Informe os dias para atividades: 7\n",
            "Informe os dias para atividades: -8\n",
            "Informe os dias para atividades: 9\n",
            "Erro: os dias não podem ser negativos\n"
          ]
        }
      ]
    },
    {
      "cell_type": "code",
      "source": [
        "# Programa de alerta\n",
        "\n",
        "temperatura_atual = int(input('Insira a temperatura atual: '))\n",
        "\n",
        "if temperatura_atual <= 25:\n",
        "  print('A temperatura está dentro do padrão')\n",
        "else:\n",
        "  print('Alerta, temperatura acima do permitido')"
      ],
      "metadata": {
        "colab": {
          "base_uri": "https://localhost:8080/"
        },
        "id": "56_ZguV9SIFw",
        "outputId": "05bb618b-1816-417d-f267-58891308211a"
      },
      "execution_count": null,
      "outputs": [
        {
          "output_type": "stream",
          "name": "stdout",
          "text": [
            "Insira a temperatura atual: 30\n",
            "Alerta, temperatura acima do permitido\n"
          ]
        }
      ]
    },
    {
      "cell_type": "code",
      "source": [
        "# Calculo IMC\n",
        "\n",
        "peso = float(input('Insira seu peso: '))\n",
        "altura = float(input('Insira sua altura'))\n",
        "imc = peso / altura ** 2\n",
        "print( f'Seu IMC é de {imc:.2f}')\n",
        "\n",
        "if imc > 0 and imc < 18.5:\n",
        "  print('Você está abaixo do peso')\n",
        "elif imc >= 18.5 and imc <= 25:\n",
        "  print('Você está com o peso ideal')\n",
        "else:\n",
        "  print('Você está acima do peso')"
      ],
      "metadata": {
        "colab": {
          "base_uri": "https://localhost:8080/"
        },
        "id": "Y-7g7-vAVaxE",
        "outputId": "cd7e01c6-75f0-42fa-a4c7-6ed50da638cc"
      },
      "execution_count": null,
      "outputs": [
        {
          "output_type": "stream",
          "name": "stdout",
          "text": [
            "Insira seu peso: 80\n",
            "Insira sua altura1.71\n",
            "Seu IMC é de 27.36\n",
            "Você está acima do peso\n"
          ]
        }
      ]
    },
    {
      "cell_type": "code",
      "source": [
        "# Controlando orçamento mensal\n",
        "\n",
        "gastos = int(input('Insira os gastos mensais: '))\n",
        "\n",
        "if gastos <= 3000:\n",
        "  print('Você está dentro do limite do orçamento mensal')\n",
        "else:\n",
        "  print('Atenção! Você ultrapassou o limite do orçamento')"
      ],
      "metadata": {
        "colab": {
          "base_uri": "https://localhost:8080/"
        },
        "id": "QCtKhsvSYhVt",
        "outputId": "981b2c4c-d876-4279-a3fa-a99f966a98e0"
      },
      "execution_count": null,
      "outputs": [
        {
          "output_type": "stream",
          "name": "stdout",
          "text": [
            "Insira os gastos mensais: 5000\n",
            "Atenção! Você ultrapassou o limite do orçamento\n"
          ]
        }
      ]
    },
    {
      "cell_type": "code",
      "source": [
        "# Controle de acesso ao escritório\n",
        "\n",
        "horario = float(input('Insira a hora atual: '))\n",
        "\n",
        "if horario >= 8 and horario <= 18:\n",
        "  print('Acesso permitido')\n",
        "else:\n",
        "  print('Acesso negado')"
      ],
      "metadata": {
        "colab": {
          "base_uri": "https://localhost:8080/"
        },
        "id": "6m946QpIaBiJ",
        "outputId": "f45ee859-e59e-4494-ea54-2a53b7fad289"
      },
      "execution_count": null,
      "outputs": [
        {
          "output_type": "stream",
          "name": "stdout",
          "text": [
            "Insira a hora atual: 20\n",
            "Acesso negado\n"
          ]
        }
      ]
    },
    {
      "cell_type": "code",
      "source": [
        "# Classificando estudantes por média\n",
        "\n",
        "nota1 = float(input('Insira a nota do estudante: '))\n",
        "nota2 = float(input('Insira a nota do estudante: '))\n",
        "nota3 = float(input('Insira a nota do estudante: '))\n",
        "\n",
        "media = (nota1 + nota2 + nota3) / 3\n",
        "print(f'Média: {media}')\n",
        "\n",
        "if media >= 7:\n",
        "  print('Aprovado')\n",
        "elif media >= 5 and media < 7:\n",
        "  print('Recuperação')\n",
        "else:\n",
        "  print('Reprovado')"
      ],
      "metadata": {
        "colab": {
          "base_uri": "https://localhost:8080/"
        },
        "id": "ayS_-LLQbB9y",
        "outputId": "ece038bb-f132-4e2a-fcfb-2c4dc59521d5"
      },
      "execution_count": null,
      "outputs": [
        {
          "output_type": "stream",
          "name": "stdout",
          "text": [
            "Insira a nota do estudante: 8\n",
            "Insira a nota do estudante: 4\n",
            "Insira a nota do estudante: 3\n",
            "Média: 5.0\n",
            "Recuperação\n"
          ]
        }
      ]
    },
    {
      "cell_type": "code",
      "source": [
        "# Calculando pedágio\n",
        "\n",
        "km = int(input('Digite a distância percorrida: '))\n",
        "\n",
        "if km > 0 and km <= 100:\n",
        "  print('Valor do pedágio: R$ 10')\n",
        "elif km > 100 and km <= 200:\n",
        "  print('Valor do pedágio: R$ 20')\n",
        "else:\n",
        "  print('Valor do pedágio: R$ 30')"
      ],
      "metadata": {
        "colab": {
          "base_uri": "https://localhost:8080/"
        },
        "id": "xjfydSNJcBFT",
        "outputId": "b6d92e75-74a9-41cf-f0ee-2acf6afd3551"
      },
      "execution_count": null,
      "outputs": [
        {
          "output_type": "stream",
          "name": "stdout",
          "text": [
            "Digite a distância percorrida: 100\n",
            "Valor do pedágio: R$ 10\n"
          ]
        }
      ]
    },
    {
      "cell_type": "code",
      "source": [
        "# Verificando a paridade de um número\n",
        "\n",
        "numero = int(input('Digite um número inteiro: '))\n",
        "\n",
        "if numero % 2 == 0:\n",
        "  print('Este número é par')\n",
        "else:\n",
        "  print('Este número é ímpar')"
      ],
      "metadata": {
        "colab": {
          "base_uri": "https://localhost:8080/"
        },
        "id": "yQdOzIyVcwQI",
        "outputId": "3a60c735-97dd-4de8-9073-e7c1057ac543"
      },
      "execution_count": null,
      "outputs": [
        {
          "output_type": "stream",
          "name": "stdout",
          "text": [
            "Digite um número inteiro: 20\n",
            "Este número é par\n"
          ]
        }
      ]
    },
    {
      "cell_type": "code",
      "source": [
        "# Empréstimo\n",
        "\n",
        "renda_mensal = int(input('Digite sua renda mensal: '))\n",
        "parcela = int(input('Digite a parcela desejada: '))\n",
        "\n",
        "\n",
        "if renda_mensal > 200 and parcela <= 0.3 * renda_mensal:\n",
        "  print('Empréstimo aprovado')\n",
        "elif renda_mensal < 2000:\n",
        "  print('Emrpéstimo negado: renda insuficiente')\n",
        "else:\n",
        "  print('Empréstimo negado: parcela acima de 30% de renda')"
      ],
      "metadata": {
        "colab": {
          "base_uri": "https://localhost:8080/"
        },
        "id": "wldbxGLWdTv0",
        "outputId": "6e986a5f-0fc3-420d-9751-eb331be88437"
      },
      "execution_count": null,
      "outputs": [
        {
          "output_type": "stream",
          "name": "stdout",
          "text": [
            "Digite sua renda mensal: 2500\n",
            "Digite a parcela desejada: 800\n",
            "Empréstimo negado: parcela acima de 30% de renda\n"
          ]
        }
      ]
    },
    {
      "cell_type": "code",
      "source": [],
      "metadata": {
        "id": "jTuuOxO-ezoy"
      },
      "execution_count": null,
      "outputs": []
    }
  ]
}