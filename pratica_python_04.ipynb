{
  "nbformat": 4,
  "nbformat_minor": 0,
  "metadata": {
    "colab": {
      "provenance": []
    },
    "kernelspec": {
      "name": "python3",
      "display_name": "Python 3"
    },
    "language_info": {
      "name": "python"
    }
  },
  "cells": [
    {
      "cell_type": "code",
      "execution_count": null,
      "metadata": {
        "colab": {
          "base_uri": "https://localhost:8080/"
        },
        "id": "IRWMpy5nTL8b",
        "outputId": "d91bf667-7922-427b-c923-0f9c83446923"
      },
      "outputs": [
        {
          "output_type": "stream",
          "name": "stdout",
          "text": [
            "A média de gastos da empresa é de 3144.222\n"
          ]
        }
      ],
      "source": [
        "gastos = [2172.54, 3701.35, 3518.09, 3456.61, 3249.38, 2840.82, 3891.45, 3075.26, 2317.64, 3219.08]\n",
        "\n",
        "media_gastos = sum(gastos) / len(gastos)\n",
        "print('A média de gastos da empresa é de', media_gastos)"
      ]
    },
    {
      "cell_type": "code",
      "source": [
        "gastos = [2172.54, 3701.35, 3518.09, 3456.61, 3249.38, 2840.82, 3891.45, 3075.26, 2317.64, 3219.08]\n",
        "\n",
        "acima_3k = 0\n",
        "\n",
        "for gasto in gastos:\n",
        "  if gasto > 3000:\n",
        "    acima_3k += 1\n",
        "\n",
        "quantidade_compras = len(gastos)\n",
        "\n",
        "porcentagem_acima_3000 = 100 * (acima_3k / quantidade_compras)\n",
        "\n",
        "print(f'{acima_3k} compras foram feitas acima de 3k')\n",
        "print(f'{porcentagem_acima_3000}% dos gastos foram acima de 3k')"
      ],
      "metadata": {
        "colab": {
          "base_uri": "https://localhost:8080/"
        },
        "id": "8kyddeV0TgOJ",
        "outputId": "a76d6555-e563-4d1d-caaa-cbab6ff76059"
      },
      "execution_count": null,
      "outputs": [
        {
          "output_type": "stream",
          "name": "stdout",
          "text": [
            "7 compras foram feitas acima de 3k\n",
            "70.0% dos gastos foram acima de 3k\n"
          ]
        }
      ]
    },
    {
      "cell_type": "code",
      "source": [
        "lista_numeros = []\n",
        "\n",
        "for digito in range(0,5):\n",
        "  numero = int(input('Digite um número: '))\n",
        "  lista_numeros.append(numero)\n",
        "\n",
        "print(f'Lista de números inseriods: {lista_numeros}')"
      ],
      "metadata": {
        "colab": {
          "base_uri": "https://localhost:8080/"
        },
        "id": "5iasxSw3oOJY",
        "outputId": "73b85e77-86fb-4b38-cefb-251581111db1"
      },
      "execution_count": null,
      "outputs": [
        {
          "output_type": "stream",
          "name": "stdout",
          "text": [
            "Digite um número: 4\n",
            "Digite um número: 5\n",
            "Digite um número: 8\n",
            "Digite um número: 7\n",
            "Digite um número: 6\n",
            "Lista de números inseriods: [4, 5, 8, 7, 6]\n"
          ]
        }
      ]
    },
    {
      "cell_type": "code",
      "source": [
        "lista_numeros = []\n",
        "\n",
        "for digito in range(0,5):\n",
        "  numero = int(input('Digite um número: '))\n",
        "  lista_numeros.append(numero)\n",
        "\n",
        "print(f'Lista de números inseriods: {lista_numeros[::-1]}')"
      ],
      "metadata": {
        "colab": {
          "base_uri": "https://localhost:8080/"
        },
        "id": "MJ30I4Sdogib",
        "outputId": "89759203-963b-4a75-ac39-d5ecf1b0a5cd"
      },
      "execution_count": null,
      "outputs": [
        {
          "output_type": "stream",
          "name": "stdout",
          "text": [
            "Digite um número: 1\n",
            "Digite um número: 2\n",
            "Digite um número: 3\n",
            "Digite um número: 4\n",
            "Digite um número: 5\n",
            "Lista de números inseriods: [5, 4, 3, 2, 1]\n"
          ]
        }
      ]
    },
    {
      "cell_type": "code",
      "source": [
        "numero = int(input('Digite seu número: '))\n",
        "numeros_primos = []\n",
        "\n",
        "for digito in range(2, numero + 1):\n",
        "  primo = True\n",
        "  for teste_divisiveis in range(2, digito):\n",
        "    if digito % teste_divisiveis == 0:\n",
        "      primo = False\n",
        "      break\n",
        "\n",
        "  if primo:\n",
        "    numeros_primos.append(digito)\n",
        "\n",
        "print(f'Os números primos são: {numeros_primos}')"
      ],
      "metadata": {
        "colab": {
          "base_uri": "https://localhost:8080/"
        },
        "id": "0W2kHpcCq-ku",
        "outputId": "c398ad13-11c0-4fb9-d153-16096fd7358e"
      },
      "execution_count": null,
      "outputs": [
        {
          "output_type": "stream",
          "name": "stdout",
          "text": [
            "Digite seu número: 30\n",
            "Os números primos são: [2, 3, 5, 7, 11, 13, 17, 19, 23, 29]\n"
          ]
        }
      ]
    },
    {
      "cell_type": "code",
      "source": [
        "dia = int(input('Digite o dia: '))\n",
        "mes = int(input('Digite o mês: '))\n",
        "ano = int(input('Digite o ano: '))\n",
        "\n",
        "if mes == 2:\n",
        "  if ano % 4 == 0 and (ano % 400 == 0 or ano % 100 != 0):\n",
        "    dias_fevereiro = 29\n",
        "  else:\n",
        "    dias_fevereiro = 28\n",
        "\n",
        "  if dia >= 1 and dia <= dias_fevereiro:\n",
        "    print('Data válida')\n",
        "  else:\n",
        "    print('Data inválida')\n",
        "\n",
        "#meses com 31 dias\n",
        "elif mes in [1,3,5,7,8,10,12]:\n",
        "  if dia >= 1 and dia <= 31:\n",
        "    print('Data válida')\n",
        "  else:\n",
        "    print('Data inválida')\n",
        "\n",
        "#meses com 30 dias\n",
        "elif mes in [4,6,9,11]:\n",
        "  if dia >= 1 and dia <= 30:\n",
        "    print('Data válida')\n",
        "  else:\n",
        "    print('Data inválida')\n",
        "else:\n",
        "  print('Data inválida')"
      ],
      "metadata": {
        "colab": {
          "base_uri": "https://localhost:8080/"
        },
        "id": "9rWDHuZK5Woy",
        "outputId": "5855b398-5ac0-447f-d770-86ceff3c7bd1"
      },
      "execution_count": null,
      "outputs": [
        {
          "output_type": "stream",
          "name": "stdout",
          "text": [
            "Digite o dia: 78\n",
            "Digite o mês: 23\n",
            "Digite o ano: 1900\n",
            "Data inválida\n"
          ]
        }
      ]
    },
    {
      "cell_type": "markdown",
      "source": [
        "Para um estudo envolvendo o nível de multiplicação de bactérias em uma colônia, foi coletado o número de bactérias por dia (em milhares) e pode ser observado a seguir: [1.2, 2.1, 3.3, 5.0, 7.8, 11.3, 16.6, 25.1, 37.8, 56.9]. Tendo esses valores, faça um código que gere uma lista contendo o percentual de crescimento de bactérias por dia, comparando o número de bactérias em cada dia com o número de bactérias do dia anterior. Dica: para calcular o percentual de crescimento usamos a seguinte equação: 100 * (amostra_atual - amostra_passada) / (amostra_passada)."
      ],
      "metadata": {
        "id": "HAI0CvrPR5jp"
      }
    },
    {
      "cell_type": "code",
      "source": [
        "bacterias = [1.2, 2.1, 3.3, 5.0, 7.8, 11.3, 16.6, 25.1, 37.8, 56.9]\n",
        "porcentual_crescimento = []\n",
        "\n",
        "for i in range(1, len(bacterias)):\n",
        "  porcentagem = 100 * (bacterias[i] - bacterias[i - 1] / bacterias[i - 1])\n",
        "  porcentual_crescimento.append(porcentagem)\n",
        "\n",
        "print(f'Porcentagens de crescimento: \\n {porcentual_crescimento}')"
      ],
      "metadata": {
        "id": "IjfSY5GF-fzJ",
        "colab": {
          "base_uri": "https://localhost:8080/"
        },
        "outputId": "362c1a90-5fc6-4349-c156-6f17b9ddbc3f"
      },
      "execution_count": null,
      "outputs": [
        {
          "output_type": "stream",
          "name": "stdout",
          "text": [
            "Porcentagens de crescimento: \n",
            " [110.00000000000001, 229.99999999999997, 400.0, 680.0, 1030.0, 1560.0000000000002, 2410.0, 3679.9999999999995, 5590.0]\n"
          ]
        }
      ]
    },
    {
      "cell_type": "markdown",
      "source": [
        "Para uma seleção de produtos alimentícios, precisamos separar o conjunto de IDs dados por números inteiros sabendo que os produtos com ID par são doces e os com ID ímpar são amargos. Monte um código que colete 10 IDs. Depois, calcule e mostre a quantidade de produtos doces e amargos."
      ],
      "metadata": {
        "id": "Oy33BYWAZwlx"
      }
    },
    {
      "cell_type": "code",
      "source": [
        "\n",
        "doces = []\n",
        "amargos = []\n",
        "\n",
        "for sabor in range(1,11):\n",
        "  sabor = int(input('Digite um número: '))\n",
        "  if sabor % 2 == 0:\n",
        "    doces.append(sabor)\n",
        "  else:\n",
        "    amargos.append(sabor)\n",
        "\n",
        "print(f'Os sabores doces são: {doces}')\n",
        "print(f'Os sabores amargos são: {amargos}')"
      ],
      "metadata": {
        "colab": {
          "base_uri": "https://localhost:8080/"
        },
        "id": "FHLpwNUAZgkN",
        "outputId": "4066f82c-3dab-4ea1-f8dd-46358539d669"
      },
      "execution_count": null,
      "outputs": [
        {
          "output_type": "stream",
          "name": "stdout",
          "text": [
            "Digite um número: 1\n",
            "Digite um número: 2\n",
            "Digite um número: 3\n",
            "Digite um número: 4\n",
            "Digite um número: 5\n",
            "Digite um número: 6\n",
            "Digite um número: 7\n",
            "Digite um número: 8\n",
            "Digite um número: 9\n",
            "Digite um número: 10\n",
            "Os sabores doces são: [2, 4, 6, 8, 10]\n",
            "Os sabores amargos são: [1, 3, 5, 7, 9]\n"
          ]
        }
      ]
    },
    {
      "cell_type": "markdown",
      "source": [
        "Desenvolva um programa que informa a nota de um(a) aluno(a) de acordo com suas respostas. Ele deve pedir a resposta desse(a) aluno(a) para cada questão e é preciso verificar se a resposta foi igual ao gabarito. Cada questão vale um ponto e existem as alternativas A, B, C ou D."
      ],
      "metadata": {
        "id": "JvJ55GE7a9ql"
      }
    },
    {
      "cell_type": "code",
      "source": [
        "respostas = []\n",
        "gabarito = ['D', 'A', 'C', 'B', 'A', 'D', 'C', 'C', 'A', 'B']\n",
        "nota = 0\n",
        "\n",
        "for i in range(0,10):\n",
        "  respostas.append(input(f'Insira a resposta da questão {i + 1}').upper())\n",
        "\n",
        "for i in range(0,10):\n",
        "  if respostas[i] == gabarito[i]:\n",
        "    nota += 1\n",
        "\n",
        "print(f'Nota final: {nota}')"
      ],
      "metadata": {
        "colab": {
          "base_uri": "https://localhost:8080/"
        },
        "id": "6TeEzpnRagVP",
        "outputId": "21e2c43d-b23a-40e6-efcd-ef75aa60e202"
      },
      "execution_count": null,
      "outputs": [
        {
          "output_type": "stream",
          "name": "stdout",
          "text": [
            "Insira a resposta da questão 1d\n",
            "Insira a resposta da questão 2a\n",
            "Insira a resposta da questão 3c\n",
            "Insira a resposta da questão 4b\n",
            "Insira a resposta da questão 5a\n",
            "Insira a resposta da questão 6d\n",
            "Insira a resposta da questão 7c\n",
            "Insira a resposta da questão 8c\n",
            "Insira a resposta da questão 9a\n",
            "Insira a resposta da questão 10b\n",
            "Nota final: 10\n"
          ]
        }
      ]
    },
    {
      "cell_type": "markdown",
      "source": [
        "Um instituto de meteorologia deseja fazer um estudo de temperatura média de cada mês do ano. Para isso, você precisa fazer um código que colete e armazene essas temperaturas médias em uma lista. Depois, calcule a média anual das temperaturas e mostre todas as temperaturas acima da média anual e em que mês elas ocorreram, mostrando os meses por extenso (Janeiro, Fevereiro, etc.)."
      ],
      "metadata": {
        "id": "1B9sJAJE2Ue0"
      }
    },
    {
      "cell_type": "code",
      "source": [
        "temperaturas_mensaid = []\n",
        "\n",
        "for i in range(0, 12):\n",
        "  temperaturas_mensaid.append(float(input('Insira a temperatura: ')))\n",
        "\n",
        "\n",
        "meses = ['janeiro', 'fevereiro', 'março', 'abril', 'maio', 'junho', 'julho', 'agosto', 'setembro', 'outrubro', 'novembro', 'dezembro']\n",
        "media_anual = sum(temperaturas_mensaid) / len(temperaturas_mensaid)\n",
        "\n",
        "\n",
        "print('Temperaturas médias em: ')\n",
        "for i in range(0, 12):\n",
        "  if temperaturas_mensaid[i] > media_anual:\n",
        "    print(meses[i])"
      ],
      "metadata": {
        "id": "NN4jz4RV0KeM",
        "colab": {
          "base_uri": "https://localhost:8080/"
        },
        "outputId": "09317eb7-52b6-4bba-a05d-f3266ee96195"
      },
      "execution_count": 3,
      "outputs": [
        {
          "output_type": "stream",
          "name": "stdout",
          "text": [
            "Insira a temperatura: 30\n",
            "Insira a temperatura: 25\n",
            "Insira a temperatura: 35\n",
            "Insira a temperatura: 14\n",
            "Insira a temperatura: 26\n",
            "Insira a temperatura: 28\n",
            "Insira a temperatura: 28\n",
            "Insira a temperatura: 29\n",
            "Insira a temperatura: 16\n",
            "Insira a temperatura: 15\n",
            "Insira a temperatura: 20\n",
            "Insira a temperatura: 21\n",
            "Temperaturas médias em: \n",
            "janeiro\n",
            "fevereiro\n",
            "março\n",
            "maio\n",
            "junho\n",
            "julho\n",
            "agosto\n"
          ]
        }
      ]
    },
    {
      "cell_type": "markdown",
      "source": [
        "Uma empresa de e-commerce está interessada em analisar as vendas dos seus produtos. Os dados das vendas foram armazenados em um dicionário:\n",
        "\n",
        "Escreva um código que calcule o total de vendas e o produto mais vendido."
      ],
      "metadata": {
        "id": "0gx1VBShcRD0"
      }
    },
    {
      "cell_type": "code",
      "source": [
        "dados_vendas = {'Produto A': 300, 'Produto B': 80, 'Produto C': 60,\n",
        " 'Produto D': 200, 'Produto E': 250, 'Produto F': 30}\n",
        "\n",
        "total_vendas = 0\n",
        "produto_mais_vendido = ''\n",
        "unidades_produtos_mais_vendidos = 0\n",
        "\n",
        "for produto in dados_vendas.keys():\n",
        "  total_vendas += dados_vendas[produto]\n",
        "\n",
        "  if dados_vendas[produto] > unidades_produtos_mais_vendidos:\n",
        "    unidades_produtos_mais_vendidos = dados_vendas[produto]\n",
        "    produto_mais_vendido = produto\n",
        "\n",
        "print(f'O total de vendas foi de {total_vendas}')\n",
        "print(f'O produto mais vendido foi {produto_mais_vendido} com {unidades_produtos_mais_vendidos} unidades vendidas')"
      ],
      "metadata": {
        "colab": {
          "base_uri": "https://localhost:8080/"
        },
        "id": "5Uz6WJsFb2hA",
        "outputId": "b2da9fb0-8cb5-4f3f-970e-b2f1ee70d84a"
      },
      "execution_count": 7,
      "outputs": [
        {
          "output_type": "stream",
          "name": "stdout",
          "text": [
            "O total de vendas foi de 920\n",
            "O produto mais vendido foi Produto A com 300 unidades vendidas\n"
          ]
        }
      ]
    },
    {
      "cell_type": "markdown",
      "source": [
        "Uma pesquisa de mercado foi feita para decidir qual design de marca infantil mais agrada as crianças. A pesquisa foi feita e o votos computados podem ser observados abaixo:\n",
        "\n",
        "Adapte os dados fornecidos para uma estrutura de dicionário. A partir dele, informe o design vencedor e a porcentagem de votos recebidos."
      ],
      "metadata": {
        "id": "9dRqLTPiull7"
      }
    },
    {
      "cell_type": "code",
      "source": [
        "votos = {'Design 1': 1334, 'Design 2': 982, 'Design 3': 1751, 'Design 4': 210, 'Design 5': 1811}\n",
        "\n",
        "total_votos = 0\n",
        "vencedor = ''\n",
        "voto_vencedor = 0\n",
        "\n",
        "for design, voto_design in votos.items():\n",
        "  total_votos += voto_design\n",
        "\n",
        "  if voto_design > voto_vencedor:\n",
        "    voto_vencedor = voto_design\n",
        "    vencedor = design\n",
        "\n",
        "porcentagem = 100 * (voto_vencedor) / (total_votos)\n",
        "\n",
        "print(f'O design vencedor foi o {vencedor} com {voto_vencedor} votos')\n",
        "print(f'A porcentagem de votos recebidos foi de {porcentagem}%')"
      ],
      "metadata": {
        "colab": {
          "base_uri": "https://localhost:8080/"
        },
        "id": "Tpez4FuGcoya",
        "outputId": "8ff6d3f0-c1ba-4091-c462-ea1bdbe9d87b"
      },
      "execution_count": 8,
      "outputs": [
        {
          "output_type": "stream",
          "name": "stdout",
          "text": [
            "O design vencedor foi o Design 5 com 1811 votos\n",
            "A porcentagem de votos recebidos foi de 29.747043363994745%\n"
          ]
        }
      ]
    },
    {
      "cell_type": "markdown",
      "source": [
        "As pessoas colaboradoras de um setor da empresa que você trabalha vão receber um abono correspondente a 10% do salário devido ao ótimo desempenho do time. O setor financeiro solicitou sua ajuda para a verificação das consequências financeiras que esse abono irá gerar nos recursos. Assim, foi encaminhada para você uma lista com os salários que receberão o abono: [1172, 1644, 2617, 5130, 5532, 6341, 6650, 7238, 7685, 7782, 7903]. O abono de cada colaborador(a) não pode ser inferior a 200. Em código, transforme cada um dos salários em chaves de um dicionário e o abono de cada salário no elemento. Depois, informe o total de gastos com o abono, quantos(as) colaboradores(as) receberam o abono mínimo e qual o maior valor de abono fornecido."
      ],
      "metadata": {
        "id": "65xEhz5HvwgP"
      }
    },
    {
      "cell_type": "code",
      "source": [
        "salarios = [1172, 1644, 2617, 5130, 5532, 6341, 6650, 7238, 7685, 7782, 7903]\n",
        "dic_abonos = {}\n",
        "total_abono = 0\n",
        "abono_minimo = 0\n",
        "maior_abono = 0\n",
        "\n",
        "for salario in salarios:\n",
        "  abono = salario * 0.1\n",
        "  if abono < 200:\n",
        "    abono = 200\n",
        "  dic_abonos[salario] = abono\n",
        "\n",
        "for abono in dic_abonos.values():\n",
        "  if abono == 200:\n",
        "    abono_minimo += 1\n",
        "\n",
        "  if abono > maior_abono:\n",
        "    maior_abono = abono\n",
        "\n",
        "  total_abono += abono\n",
        "\n",
        "print(f'Abonos: {dic_abonos}')\n",
        "print(f'Total de gastos com abonos: {total_abono}')\n",
        "print(f'Quantidade de colaboradores que receberam o abono mínimo: {abono_minimo}')\n",
        "print(f'MAior valor de abono: {maior_abono}')"
      ],
      "metadata": {
        "colab": {
          "base_uri": "https://localhost:8080/"
        },
        "id": "CDb3ca-qvdTl",
        "outputId": "e430fb11-3aa4-4741-be15-1eb940a39656"
      },
      "execution_count": 11,
      "outputs": [
        {
          "output_type": "stream",
          "name": "stdout",
          "text": [
            "Abonos: {1172: 200, 1644: 200, 2617: 261.7, 5130: 513.0, 5532: 553.2, 6341: 634.1, 6650: 665.0, 7238: 723.8000000000001, 7685: 768.5, 7782: 778.2, 7903: 790.3000000000001}\n",
            "Total de gastos com abonos: 6087.8\n",
            "Quantidade de colaboradores que receberam o abono mínimo: 2\n",
            "MAior valor de abono: 790.3000000000001\n"
          ]
        }
      ]
    },
    {
      "cell_type": "markdown",
      "source": [
        "Uma equipe de cientistas de dados está estudando a diversidade biológica em uma floresta. A equipe fez a coleta de informações sobre o número de espécies de plantas e animais em cada área dessa floresta e armazenou essas informações em um dicionário. Nele, a chave descreve a área dos dados e os valores nas listas correspondem às espécies de plantas e animais nas áreas, respectivamente.\n",
        "\n",
        "Escreva um código para calcular a média de espécies por área e identificar a área com a maior diversidade biológica. Dica: use as funções built-in sum() e len()."
      ],
      "metadata": {
        "id": "B2QRCmUKxWqh"
      }
    },
    {
      "cell_type": "code",
      "source": [
        "dados = {'Área Norte': [2819, 7236],\n",
        "         'Área Leste': [1440, 9492],\n",
        "         'Área Sul': [5969, 7496],\n",
        "         'Área Oeste': [14446, 49688],\n",
        "         'Área Centro': [22558, 45148]}\n",
        "\n",
        "soma_media = 0\n",
        "maior_diversidade = ''\n",
        "maior_soma = 0\n",
        "\n",
        "for area, especies in dados.items():\n",
        "  soma_especies = sum(especies)\n",
        "  media = soma_especies / len(especies)\n",
        "  print(f'A {area} tem a média de {media} espécies')\n",
        "\n",
        "  if soma_especies > maior_soma:\n",
        "    maior_soma = soma_especies\n",
        "    maior_diversidade = area\n",
        "\n",
        "  soma_media += media\n",
        "\n",
        "media_total = soma_media / len(dados)\n",
        "\n",
        "print(f'Média geral de espécies: {media_total}')\n",
        "print(f'Área com a maior diversidade biológica: {maior_diversidade}')"
      ],
      "metadata": {
        "colab": {
          "base_uri": "https://localhost:8080/"
        },
        "id": "MwHUWDrIxKQv",
        "outputId": "c8af77a8-705d-4116-ff68-1adcfd30b3d2"
      },
      "execution_count": 12,
      "outputs": [
        {
          "output_type": "stream",
          "name": "stdout",
          "text": [
            "A Área Norte tem a média de 5027.5 espécies\n",
            "A Área Leste tem a média de 5466.0 espécies\n",
            "A Área Sul tem a média de 6732.5 espécies\n",
            "A Área Oeste tem a média de 32067.0 espécies\n",
            "A Área Centro tem a média de 33853.0 espécies\n",
            "Média geral de espécies: 16629.2\n",
            "Área com a maior diversidade biológica: Área Centro\n"
          ]
        }
      ]
    },
    {
      "cell_type": "markdown",
      "source": [
        "O setor de RH da sua empresa te pediu uma ajuda para analisar as idades de colaboradores(as) de 4 setores da empresa. Para isso, foram fornecidos os seguintes dados\n",
        "\n",
        "Sabendo que cada setor tem 10 colaboradores(as), construa um código que calcule a média de idade de cada setor, a idade média geral entre todos os setores e quantas pessoas estão acima da idade média geral."
      ],
      "metadata": {
        "id": "7LawJ8hcyv1g"
      }
    },
    {
      "cell_type": "code",
      "source": [
        "dados = {'Setor A': [22, 26, 30, 30, 35, 38, 40, 56, 57, 65],\n",
        "        'Setor B': [22, 24, 26, 33, 41, 49, 50, 54, 60, 64],\n",
        "        'Setor C': [23, 26, 26, 29, 34, 35, 36, 41, 52, 56],\n",
        "        'Setor D': [19, 20, 25, 27, 34, 39, 42, 44, 50, 65]}\n",
        "\n",
        "total_idades = 0\n",
        "\n",
        "for setor, idades in dados.items():\n",
        "  media_idade = sum(idades) / len(idades)\n",
        "\n",
        "  print(f'O {setor} tem a média de {media_idade}')\n",
        "\n",
        "  total_idades += sum(idades)\n",
        "\n",
        "media_total = total_idades / (len(idades) * len(dados))\n",
        "print(f'A média de idade geral é {media_total}')\n",
        "\n",
        "acima_media = 0\n",
        "\n",
        "for setor, idades in dados.items():\n",
        "  for id in idades:\n",
        "    if id > media_total:\n",
        "      acima_media += 1\n",
        "\n",
        "print(f'{acima_media} pessoas estão acima da idade média geral')"
      ],
      "metadata": {
        "colab": {
          "base_uri": "https://localhost:8080/"
        },
        "id": "0ouKMMz2yquH",
        "outputId": "979b528d-a56b-4919-f2f3-8bfb37863671"
      },
      "execution_count": 13,
      "outputs": [
        {
          "output_type": "stream",
          "name": "stdout",
          "text": [
            "O Setor A tem a média de 39.9\n",
            "O Setor B tem a média de 42.3\n",
            "O Setor C tem a média de 35.8\n",
            "O Setor D tem a média de 36.5\n",
            "A média de idade geral é 38.625\n",
            "18 pessoas estão acima da idade média geral\n"
          ]
        }
      ]
    },
    {
      "cell_type": "code",
      "source": [],
      "metadata": {
        "id": "Wtd9AVK7zupi"
      },
      "execution_count": null,
      "outputs": []
    }
  ]
}